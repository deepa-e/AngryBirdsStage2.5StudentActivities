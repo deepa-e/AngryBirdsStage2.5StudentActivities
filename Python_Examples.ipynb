{
  "nbformat": 4,
  "nbformat_minor": 0,
  "metadata": {
    "colab": {
      "name": "Copy of Untitled0.ipynb",
      "provenance": [],
      "authorship_tag": "ABX9TyPvJefZkyG8zGwMUKnyBlnc",
      "include_colab_link": true
    },
    "kernelspec": {
      "name": "python3",
      "display_name": "Python 3"
    }
  },
  "cells": [
    {
      "cell_type": "markdown",
      "metadata": {
        "id": "view-in-github",
        "colab_type": "text"
      },
      "source": [
        "<a href=\"https://colab.research.google.com/github/deepa-e/AngryBirdsStage2.5StudentActivities/blob/master/Python_Examples.ipynb\" target=\"_parent\"><img src=\"https://colab.research.google.com/assets/colab-badge.svg\" alt=\"Open In Colab\"/></a>"
      ]
    },
    {
      "cell_type": "code",
      "metadata": {
        "colab": {
          "base_uri": "https://localhost:8080/"
        },
        "id": "_kOn6x0U1urA",
        "outputId": "d8f70842-9002-43d5-952b-647106ab98ae"
      },
      "source": [
        "n=2\r\n",
        "if(n>0):\r\n",
        "  print(\"Hello\")\r\n"
      ],
      "execution_count": null,
      "outputs": [
        {
          "output_type": "stream",
          "text": [
            "Hello\n"
          ],
          "name": "stdout"
        }
      ]
    },
    {
      "cell_type": "code",
      "metadata": {
        "colab": {
          "base_uri": "https://localhost:8080/"
        },
        "id": "YkVzLEhk2Sgs",
        "outputId": "b6e8841c-e1d1-43e9-cb4d-540de93d87fe"
      },
      "source": [
        "choice=input(\"Enter your fav colour\")\r\n",
        "type(choice)"
      ],
      "execution_count": null,
      "outputs": [
        {
          "output_type": "stream",
          "text": [
            "Enter your fav colouryellow\n"
          ],
          "name": "stdout"
        },
        {
          "output_type": "execute_result",
          "data": {
            "text/plain": [
              "str"
            ]
          },
          "metadata": {
            "tags": []
          },
          "execution_count": 7
        }
      ]
    },
    {
      "cell_type": "code",
      "metadata": {
        "colab": {
          "base_uri": "https://localhost:8080/"
        },
        "id": "cv6jryUl3FPq",
        "outputId": "006ddd5b-ee98-4295-a422-9964e2953cb6"
      },
      "source": [
        "inp = int(input(\"Enter a number\"))\r\n",
        "type(inp)\r\n"
      ],
      "execution_count": null,
      "outputs": [
        {
          "output_type": "stream",
          "text": [
            "Enter a number500\n"
          ],
          "name": "stdout"
        },
        {
          "output_type": "execute_result",
          "data": {
            "text/plain": [
              "int"
            ]
          },
          "metadata": {
            "tags": []
          },
          "execution_count": 8
        }
      ]
    },
    {
      "cell_type": "code",
      "metadata": {
        "colab": {
          "base_uri": "https://localhost:8080/"
        },
        "id": "kMLtgnuU3xy8",
        "outputId": "3d4b3259-1da0-4bfa-b54b-96f3847fbf60"
      },
      "source": [
        "inp = int(input(\"Enter a number\"))\r\n",
        "if(inp%5==0):\r\n",
        "  print(\"This is a multiple of 5\")\r\n",
        "else:\r\n",
        "  print(\"This is not a multiple of 5\")"
      ],
      "execution_count": null,
      "outputs": [
        {
          "output_type": "stream",
          "text": [
            "Enter a number80\n",
            "This is a multiple of 5\n"
          ],
          "name": "stdout"
        }
      ]
    },
    {
      "cell_type": "code",
      "metadata": {
        "colab": {
          "base_uri": "https://localhost:8080/"
        },
        "id": "lt91Ia3A5MoY",
        "outputId": "c5c382ad-f715-4c0e-a9fb-313e2d4aa470"
      },
      "source": [
        "inp = int(input(\"Enter a number\"))\r\n",
        "if inp%2 == 0:\r\n",
        "  print(\"This is an even number\")\r\n",
        "else:\r\n",
        "  print(\"This is an odd number\")"
      ],
      "execution_count": null,
      "outputs": [
        {
          "output_type": "stream",
          "text": [
            "Enter a number54\n",
            "This is an even number\n"
          ],
          "name": "stdout"
        }
      ]
    },
    {
      "cell_type": "code",
      "metadata": {
        "colab": {
          "base_uri": "https://localhost:8080/"
        },
        "id": "yfRpwfNE5v1Y",
        "outputId": "d274d4e5-de5c-4bbb-9aa1-faa1ed1b849c"
      },
      "source": [
        "age = int(input(\"Enter your age\"))\r\n",
        "if age>=18:\r\n",
        "  print(\"You are eligible to vote\")\r\n",
        "else:\r\n",
        "  print(\"You can't vote yet\")"
      ],
      "execution_count": null,
      "outputs": [
        {
          "output_type": "stream",
          "text": [
            "Enter your age6\n",
            "You can't vote yet\n"
          ],
          "name": "stdout"
        }
      ]
    },
    {
      "cell_type": "code",
      "metadata": {
        "id": "E7SSFPF56J_i"
      },
      "source": [
        ""
      ],
      "execution_count": null,
      "outputs": []
    },
    {
      "cell_type": "markdown",
      "metadata": {
        "id": "BmXSe8qf2-y6"
      },
      "source": [
        ""
      ]
    },
    {
      "cell_type": "code",
      "metadata": {
        "colab": {
          "base_uri": "https://localhost:8080/",
          "height": 216
        },
        "id": "t-YrwRwF2lm9",
        "outputId": "f2174854-b4d8-46ab-aed3-3114e4fc8430"
      },
      "source": [
        "#int, float, string, boolean\r\n",
        "# If you take any input using input(), the default data type is always string\r\n",
        "type(choice)"
      ],
      "execution_count": null,
      "outputs": [
        {
          "output_type": "error",
          "ename": "NameError",
          "evalue": "ignored",
          "traceback": [
            "\u001b[0;31m---------------------------------------------------------------------------\u001b[0m",
            "\u001b[0;31mNameError\u001b[0m                                 Traceback (most recent call last)",
            "\u001b[0;32m<ipython-input-6-af50adc047c9>\u001b[0m in \u001b[0;36m<module>\u001b[0;34m()\u001b[0m\n\u001b[1;32m      1\u001b[0m \u001b[0;31m#int, float, string, boolean\u001b[0m\u001b[0;34m\u001b[0m\u001b[0;34m\u001b[0m\u001b[0;34m\u001b[0m\u001b[0m\n\u001b[1;32m      2\u001b[0m \u001b[0;31m# If you take any input using input(), the default data type is always string\u001b[0m\u001b[0;34m\u001b[0m\u001b[0;34m\u001b[0m\u001b[0;34m\u001b[0m\u001b[0m\n\u001b[0;32m----> 3\u001b[0;31m \u001b[0mtype\u001b[0m\u001b[0;34m(\u001b[0m\u001b[0mchoice\u001b[0m\u001b[0;34m)\u001b[0m\u001b[0;34m\u001b[0m\u001b[0;34m\u001b[0m\u001b[0m\n\u001b[0m",
            "\u001b[0;31mNameError\u001b[0m: name 'choice' is not defined"
          ]
        }
      ]
    },
    {
      "cell_type": "code",
      "metadata": {
        "id": "Y3r7MDMk2jvD"
      },
      "source": [
        ""
      ],
      "execution_count": null,
      "outputs": []
    }
  ]
}